{
 "cells": [
  {
   "cell_type": "code",
   "execution_count": 1,
   "metadata": {},
   "outputs": [
    {
     "name": "stdout",
     "output_type": "stream",
     "text": [
      "Writing mapper_total.py\n"
     ]
    }
   ],
   "source": [
    "%%writefile mapper_total.py\n",
    "#!/usr/bin/env python2\n",
    "import sys\n",
    "import re\n",
    "\n",
    "reload(sys)\n",
    "sys.setdefaultencoding('utf-8') # required to convert to unicode\n",
    "\n",
    "for line in sys.stdin:\n",
    "    try:\n",
    "        article_id, text = unicode(line.strip()).split('\\t', 1)\n",
    "    except ValueError as e:\n",
    "        continue\n",
    "    words = re.split(\"\\W*\\s+\\W*\", text, flags=re.UNICODE)\n",
    "    for word in words:\n",
    "        print \"%d\" % (1)"
   ]
  },
  {
   "cell_type": "code",
   "execution_count": 2,
   "metadata": {},
   "outputs": [
    {
     "name": "stdout",
     "output_type": "stream",
     "text": [
      "Writing reducer_total.py\n"
     ]
    }
   ],
   "source": [
    "%%writefile reducer_total.py\n",
    "#!/usr/bin/env python2\n",
    "import sys\n",
    "\n",
    "total = 0\n",
    "\n",
    "for line in sys.stdin:\n",
    "    total += 1\n",
    "\n",
    "print \"%s\\t%d\" % ('total', total)"
   ]
  },
  {
   "cell_type": "code",
   "execution_count": 3,
   "metadata": {},
   "outputs": [
    {
     "name": "stdout",
     "output_type": "stream",
     "text": [
      "Writing mapper_find_names.py\n"
     ]
    }
   ],
   "source": [
    "%%writefile mapper_find_names.py\n",
    "#!/usr/bin/env python2\n",
    "import sys\n",
    "import re\n",
    "\n",
    "def isWordName(word):\n",
    "    if len(word) == 0 or word[0].isdigit() or (not word[0].isupper()):\n",
    "        return False\n",
    "    else:\n",
    "        if len(word) > 1:\n",
    "            for c in word[1:]:\n",
    "                if c.isupper():\n",
    "                    return False\n",
    "        return True\n",
    "\n",
    "reload(sys)\n",
    "sys.setdefaultencoding('utf-8') # required to convert to unicode\n",
    "\n",
    "for line in sys.stdin:\n",
    "    try:\n",
    "        article_id, text = unicode(line.strip()).split('\\t', 1)\n",
    "    except ValueError as e:\n",
    "        continue\n",
    "    words = re.split(\"\\W*\\s+\\W*\", text, flags=re.UNICODE)\n",
    "    for word in words:\n",
    "        if isWordName(word):\n",
    "            print \"%s\\t%d\" % (word.lower(), 1)"
   ]
  },
  {
   "cell_type": "code",
   "execution_count": 15,
   "metadata": {},
   "outputs": [
    {
     "name": "stdout",
     "output_type": "stream",
     "text": [
      "Overwriting reducer_find_names.py\n"
     ]
    }
   ],
   "source": [
    "%%writefile reducer_find_names.py\n",
    "#!/usr/bin/env python2\n",
    "import sys\n",
    "\n",
    "current_key = None\n",
    "word_sum = 0\n",
    "total = 0\n",
    "\n",
    "for line in sys.stdin:\n",
    "    try:\n",
    "        key, count = line.strip().split('\\t', 1)\n",
    "        count = int(count)\n",
    "    except ValueError as e:\n",
    "        continue\n",
    "    if current_key != key:\n",
    "        if current_key:\n",
    "            print \"%s\\t%d\" % (current_key, word_sum)\n",
    "        word_sum = 0\n",
    "        current_key = key\n",
    "    word_sum += count\n",
    "\n",
    "if current_key:\n",
    "    print \"%s\\t%d\" % (current_key, word_sum)"
   ]
  },
  {
   "cell_type": "code",
   "execution_count": 10,
   "metadata": {},
   "outputs": [
    {
     "name": "stdout",
     "output_type": "stream",
     "text": [
      "Writing reducer_freq.py\n"
     ]
    }
   ],
   "source": [
    "%%writefile reducer_freq.py\n",
    "#!/usr/bin/env python2\n",
    "import sys\n",
    "\n",
    "current_key = None\n",
    "word_sum = 0\n",
    "total = 0\n",
    "\n",
    "with open('paart-00000') as f:\n",
    "    tmp = f.readline()\n",
    "total = int(tmp.strip().split('\\t', 1)[1])\n",
    "\n",
    "for line in sys.stdin:\n",
    "    try:\n",
    "        key, count = line.strip().split('\\t', 1)\n",
    "        count = int(count)\n",
    "    except ValueError as e:\n",
    "        continue\n",
    "    if current_key != key:\n",
    "        if current_key:\n",
    "            freq = (word_sum / (total * 1.0)) * 100\n",
    "            if freq < 0.5:\n",
    "                print \"%s\\t%d\\t%f\" % (current_key, word_sum, freq)\n",
    "        word_sum = 0\n",
    "        current_key = key\n",
    "    word_sum += count\n",
    "\n",
    "if current_key:\n",
    "    freq = (word_sum / (total * 1.0)) * 100\n",
    "    if freq < 0.5:\n",
    "        print \"%s\\t%d\\t%f\" % (current_key, word_sum, freq)"
   ]
  },
  {
   "cell_type": "code",
   "execution_count": 11,
   "metadata": {},
   "outputs": [],
   "source": [
    "! chmod +x ./reducer_find_names.py"
   ]
  },
  {
   "cell_type": "code",
   "execution_count": 8,
   "metadata": {},
   "outputs": [],
   "source": [
    "! hdfs dfs -copyToLocal /data/wiki/en_articles_part/articles-part"
   ]
  },
  {
   "cell_type": "code",
   "execution_count": 18,
   "metadata": {},
   "outputs": [],
   "source": [
    "! cat articles-part | ./mapper_find_names.py | sort | ./reducer_find_names.py > my_file.txt"
   ]
  },
  {
   "cell_type": "code",
   "execution_count": 16,
   "metadata": {},
   "outputs": [
    {
     "name": "stdout",
     "output_type": "stream",
     "text": [
      "total 75124\r\n",
      "-rw-r--r-- 1 jovyan users 76861985 Nov 23 05:16 articles-part\r\n",
      "-rw-rw-r-- 1 jovyan root      1634 Oct  9 00:28 Demo.ipynb\r\n",
      "-rwxr-xr-x 1 jovyan users      687 Nov 23 05:09 mapper_find_names.py\r\n",
      "-rw-r--r-- 1 jovyan users      369 Nov 23 05:03 mapper_total.py\r\n",
      "-rw-r--r-- 1 jovyan users        0 Nov 23 05:19 my_file.txt\r\n",
      "-rw-r--r-- 1 jovyan users    22572 Nov 23 05:19 name_rating.ipynb\r\n",
      "-rw-r--r-- 1 jovyan users       15 Nov 23 05:15 part-00000\r\n",
      "-rw-rw-r-- 1 jovyan root       239 Oct 15 16:10 README.md\r\n",
      "-rwxr-xr-x 1 jovyan users      465 Nov 23 05:20 reducer_find_names.py\r\n",
      "-rw-r--r-- 1 jovyan users      118 Nov 23 05:03 reducer_total.py\r\n",
      "-rw-r--r-- 1 root   users      757 Nov 23 05:01 supervisord.log\r\n",
      "-rw-r--r-- 1 root   users        2 Nov 23 05:01 supervisord.pid\r\n"
     ]
    }
   ],
   "source": [
    "! ls -l"
   ]
  },
  {
   "cell_type": "code",
   "execution_count": 23,
   "metadata": {},
   "outputs": [],
   "source": [
    "! cat freq_part-00000 | sort -k2nr | cat > my_output.txt"
   ]
  },
  {
   "cell_type": "code",
   "execution_count": 5,
   "metadata": {},
   "outputs": [],
   "source": [
    "! cat freq_part-00000 | ./mapper_freq.py >> my_output.txt"
   ]
  },
  {
   "cell_type": "markdown",
   "metadata": {},
   "source": [
    "# Job runner"
   ]
  },
  {
   "cell_type": "code",
   "execution_count": 19,
   "metadata": {},
   "outputs": [
    {
     "name": "stderr",
     "output_type": "stream",
     "text": [
      "17/11/23 05:28:23 INFO client.RMProxy: Connecting to ResourceManager at /0.0.0.0:8032\n",
      "17/11/23 05:28:24 INFO client.RMProxy: Connecting to ResourceManager at /0.0.0.0:8032\n",
      "17/11/23 05:28:25 INFO mapred.FileInputFormat: Total input files to process : 1\n",
      "17/11/23 05:28:25 INFO mapreduce.JobSubmitter: number of splits:2\n",
      "17/11/23 05:28:25 INFO Configuration.deprecation: mapred.job.name is deprecated. Instead, use mapreduce.job.name\n",
      "17/11/23 05:28:26 INFO mapreduce.JobSubmitter: Submitting tokens for job: job_1511413328306_0003\n",
      "17/11/23 05:28:26 INFO impl.YarnClientImpl: Submitted application application_1511413328306_0003\n",
      "17/11/23 05:28:26 INFO mapreduce.Job: The url to track the job: http://190df3c96206:8088/proxy/application_1511413328306_0003/\n",
      "17/11/23 05:28:26 INFO mapreduce.Job: Running job: job_1511413328306_0003\n",
      "17/11/23 05:28:32 INFO mapreduce.Job: Job job_1511413328306_0003 running in uber mode : false\n",
      "17/11/23 05:28:32 INFO mapreduce.Job:  map 0% reduce 0%\n",
      "17/11/23 05:28:49 INFO mapreduce.Job:  map 71% reduce 0%\n",
      "17/11/23 05:28:52 INFO mapreduce.Job:  map 100% reduce 0%\n",
      "17/11/23 05:29:09 INFO mapreduce.Job:  map 100% reduce 100%\n",
      "17/11/23 05:29:09 INFO mapreduce.Job: Job job_1511413328306_0003 completed successfully\n",
      "17/11/23 05:29:09 INFO mapreduce.Job: Counters: 49\n",
      "\tFile System Counters\n",
      "\t\tFILE: Number of bytes read=119373780\n",
      "\t\tFILE: Number of bytes written=179479097\n",
      "\t\tFILE: Number of read operations=0\n",
      "\t\tFILE: Number of large read operations=0\n",
      "\t\tFILE: Number of write operations=0\n",
      "\t\tHDFS: Number of bytes read=76874501\n",
      "\t\tHDFS: Number of bytes written=15\n",
      "\t\tHDFS: Number of read operations=9\n",
      "\t\tHDFS: Number of large read operations=0\n",
      "\t\tHDFS: Number of write operations=2\n",
      "\tJob Counters \n",
      "\t\tLaunched map tasks=2\n",
      "\t\tLaunched reduce tasks=1\n",
      "\t\tData-local map tasks=2\n",
      "\t\tTotal time spent by all maps in occupied slots (ms)=35771\n",
      "\t\tTotal time spent by all reduces in occupied slots (ms)=14252\n",
      "\t\tTotal time spent by all map tasks (ms)=35771\n",
      "\t\tTotal time spent by all reduce tasks (ms)=14252\n",
      "\t\tTotal vcore-milliseconds taken by all map tasks=35771\n",
      "\t\tTotal vcore-milliseconds taken by all reduce tasks=14252\n",
      "\t\tTotal megabyte-milliseconds taken by all map tasks=36629504\n",
      "\t\tTotal megabyte-milliseconds taken by all reduce tasks=14594048\n",
      "\tMap-Reduce Framework\n",
      "\t\tMap input records=4100\n",
      "\t\tMap output records=11937375\n",
      "\t\tMap output bytes=35812125\n",
      "\t\tMap output materialized bytes=59686887\n",
      "\t\tInput split bytes=228\n",
      "\t\tCombine input records=0\n",
      "\t\tCombine output records=0\n",
      "\t\tReduce input groups=1\n",
      "\t\tReduce shuffle bytes=59686887\n",
      "\t\tReduce input records=11937375\n",
      "\t\tReduce output records=1\n",
      "\t\tSpilled Records=35812125\n",
      "\t\tShuffled Maps =2\n",
      "\t\tFailed Shuffles=0\n",
      "\t\tMerged Map outputs=2\n",
      "\t\tGC time elapsed (ms)=467\n",
      "\t\tCPU time spent (ms)=31020\n",
      "\t\tPhysical memory (bytes) snapshot=772177920\n",
      "\t\tVirtual memory (bytes) snapshot=5722529792\n",
      "\t\tTotal committed heap usage (bytes)=527433728\n",
      "\tShuffle Errors\n",
      "\t\tBAD_ID=0\n",
      "\t\tCONNECTION=0\n",
      "\t\tIO_ERROR=0\n",
      "\t\tWRONG_LENGTH=0\n",
      "\t\tWRONG_MAP=0\n",
      "\t\tWRONG_REDUCE=0\n",
      "\tFile Input Format Counters \n",
      "\t\tBytes Read=76874273\n",
      "\tFile Output Format Counters \n",
      "\t\tBytes Written=15\n",
      "17/11/23 05:29:09 INFO streaming.StreamJob: Output directory: total\n",
      "copyToLocal: `part-00000': File exists\n",
      "17/11/23 05:29:13 INFO client.RMProxy: Connecting to ResourceManager at /0.0.0.0:8032\n",
      "17/11/23 05:29:13 INFO client.RMProxy: Connecting to ResourceManager at /0.0.0.0:8032\n",
      "17/11/23 05:29:14 INFO mapred.FileInputFormat: Total input files to process : 1\n",
      "17/11/23 05:29:14 WARN hdfs.DataStreamer: Caught exception\n",
      "java.lang.InterruptedException\n",
      "\tat java.lang.Object.wait(Native Method)\n",
      "\tat java.lang.Thread.join(Thread.java:1252)\n",
      "\tat java.lang.Thread.join(Thread.java:1326)\n",
      "\tat org.apache.hadoop.hdfs.DataStreamer.closeResponder(DataStreamer.java:927)\n",
      "\tat org.apache.hadoop.hdfs.DataStreamer.endBlock(DataStreamer.java:578)\n",
      "\tat org.apache.hadoop.hdfs.DataStreamer.run(DataStreamer.java:755)\n",
      "17/11/23 05:29:15 INFO mapreduce.JobSubmitter: number of splits:2\n",
      "17/11/23 05:29:15 INFO Configuration.deprecation: mapred.job.name is deprecated. Instead, use mapreduce.job.name\n",
      "17/11/23 05:29:15 INFO mapreduce.JobSubmitter: Submitting tokens for job: job_1511413328306_0004\n",
      "17/11/23 05:29:15 INFO impl.YarnClientImpl: Submitted application application_1511413328306_0004\n",
      "17/11/23 05:29:15 INFO mapreduce.Job: The url to track the job: http://190df3c96206:8088/proxy/application_1511413328306_0004/\n",
      "17/11/23 05:29:15 INFO mapreduce.Job: Running job: job_1511413328306_0004\n",
      "17/11/23 05:29:21 INFO mapreduce.Job: Job job_1511413328306_0004 running in uber mode : false\n",
      "17/11/23 05:29:21 INFO mapreduce.Job:  map 0% reduce 0%\n",
      "17/11/23 05:29:38 INFO mapreduce.Job:  map 100% reduce 0%\n",
      "17/11/23 05:29:48 INFO mapreduce.Job:  map 100% reduce 100%\n",
      "17/11/23 05:29:49 INFO mapreduce.Job: Job job_1511413328306_0004 completed successfully\n",
      "17/11/23 05:29:49 INFO mapreduce.Job: Counters: 49\n",
      "\tFile System Counters\n",
      "\t\tFILE: Number of bytes read=26125220\n",
      "\t\tFILE: Number of bytes written=52669026\n",
      "\t\tFILE: Number of read operations=0\n",
      "\t\tFILE: Number of large read operations=0\n",
      "\t\tFILE: Number of write operations=0\n",
      "\t\tHDFS: Number of bytes read=76874501\n",
      "\t\tHDFS: Number of bytes written=1977230\n",
      "\t\tHDFS: Number of read operations=9\n",
      "\t\tHDFS: Number of large read operations=0\n",
      "\t\tHDFS: Number of write operations=2\n",
      "\tJob Counters \n",
      "\t\tLaunched map tasks=2\n",
      "\t\tLaunched reduce tasks=1\n",
      "\t\tData-local map tasks=2\n",
      "\t\tTotal time spent by all maps in occupied slots (ms)=30534\n",
      "\t\tTotal time spent by all reduces in occupied slots (ms)=6985\n",
      "\t\tTotal time spent by all map tasks (ms)=30534\n",
      "\t\tTotal time spent by all reduce tasks (ms)=6985\n",
      "\t\tTotal vcore-milliseconds taken by all map tasks=30534\n",
      "\t\tTotal vcore-milliseconds taken by all reduce tasks=6985\n",
      "\t\tTotal megabyte-milliseconds taken by all map tasks=31266816\n",
      "\t\tTotal megabyte-milliseconds taken by all reduce tasks=7152640\n",
      "\tMap-Reduce Framework\n",
      "\t\tMap input records=4100\n",
      "\t\tMap output records=2353677\n",
      "\t\tMap output bytes=21417859\n",
      "\t\tMap output materialized bytes=26125226\n",
      "\t\tInput split bytes=228\n",
      "\t\tCombine input records=0\n",
      "\t\tCombine output records=0\n",
      "\t\tReduce input groups=177817\n",
      "\t\tReduce shuffle bytes=26125226\n",
      "\t\tReduce input records=2353677\n",
      "\t\tReduce output records=177817\n",
      "\t\tSpilled Records=4707354\n",
      "\t\tShuffled Maps =2\n",
      "\t\tFailed Shuffles=0\n",
      "\t\tMerged Map outputs=2\n",
      "\t\tGC time elapsed (ms)=294\n",
      "\t\tCPU time spent (ms)=11050\n",
      "\t\tPhysical memory (bytes) snapshot=717099008\n",
      "\t\tVirtual memory (bytes) snapshot=5714305024\n",
      "\t\tTotal committed heap usage (bytes)=502267904\n",
      "\tShuffle Errors\n",
      "\t\tBAD_ID=0\n",
      "\t\tCONNECTION=0\n",
      "\t\tIO_ERROR=0\n",
      "\t\tWRONG_LENGTH=0\n",
      "\t\tWRONG_MAP=0\n",
      "\t\tWRONG_REDUCE=0\n",
      "\tFile Input Format Counters \n",
      "\t\tBytes Read=76874273\n",
      "\tFile Output Format Counters \n",
      "\t\tBytes Written=1977230\n",
      "17/11/23 05:29:49 INFO streaming.StreamJob: Output directory: names\n"
     ]
    }
   ],
   "source": [
    "%%bash\n",
    "TOTAL_DIR=\"total\"\n",
    "NAMES_DIR=\"names\"\n",
    "#FREQ_DIR=\"freq\"\n",
    "#OUT_DIR=\"wordcount_stopwords_result\"\n",
    "\n",
    "#rm part-00000\n",
    "hdfs dfs -rm -r -skipTrash ${TOTAL_DIR} > /dev/null\n",
    "hdfs dfs -rm -r -skipTrash ${NAMES_DIR} > /dev/null\n",
    "#hdfs dfs -rm -r -skipTrash ${FREQ_DIR} > /dev/null\n",
    "#hdfs dfs -rm -r -skipTrash ${OUT_DIR} > /dev/null\n",
    "\n",
    "yarn jar /opt/cloudera/parcels/CDH/lib/hadoop-mapreduce/hadoop-streaming.jar \\\n",
    "    -D mapred.job.name=\"Total_count\" \\\n",
    "    -D mapreduce.job.reduces=1 \\\n",
    "    -files mapper_total.py,reducer_total.py \\\n",
    "    -mapper \"python mapper_total.py\" \\\n",
    "    -reducer \"python reducer_total.py\" \\\n",
    "    -input /data/wiki/en_articles_part \\\n",
    "    -output ${TOTAL_DIR} > /dev/null\n",
    "\n",
    "hdfs dfs -copyToLocal ./total/part-00000 .\n",
    "\n",
    "yarn jar /opt/cloudera/parcels/CDH/lib/hadoop-mapreduce/hadoop-streaming.jar \\\n",
    "    -D mapred.job.name=\"Names_count\" \\\n",
    "    -D mapreduce.job.reduces=1 \\\n",
    "    -files mapper_find_names.py,reducer_find_names.py \\\n",
    "    -mapper \"python mapper_find_names.py\" \\\n",
    "    -reducer \"python reducer_find_names.py\" \\\n",
    "    -input /data/wiki/en_articles_part \\\n",
    "    -output ${NAMES_DIR} > /dev/null"
   ]
  },
  {
   "cell_type": "code",
   "execution_count": null,
   "metadata": {},
   "outputs": [],
   "source": [
    "yarn jar /opt/cloudera/parcels/CDH/lib/hadoop-mapreduce/hadoop-streaming.jar \\\n",
    "    -D mapred.job.name=\"Frequencies_of_names\" \\\n",
    "    -D mapreduce.job.reduces=1 \\\n",
    "    -files mapper_freq.py,reducer_freq.py,part-00000 \\\n",
    "    -mapper \"python mapper_freq.py\" \\\n",
    "    -reducer \"python reducer_freq.py\" \\\n",
    "    -input /data/wiki/en_articles_part \\\n",
    "    -output ${FREQ_DIR} > /dev/null    \n",
    "    \n",
    "yarn jar /opt/cloudera/parcels/CDH/lib/hadoop-mapreduce/hadoop-streaming.jar \\\n",
    "    -D mapred.job.name=\"Frequencies_of_names\" \\\n",
    "    -D mapreduce.job.reduces=1 \\\n",
    "    -D stream.num.map.output.key.fields=2 \\\n",
    "    -D mapreduce.job.output.key.comparator.class=org.apache.hadoop.mapred.lib.KeyFieldBasedComparator \\\n",
    "    -D mapreduce.partition.keycomparator.options=\"-k2nr\" \\\n",
    "    -files mapper_freq.py,reducer_freq.py,part-00000 \\\n",
    "    -mapper \"cat\" \\\n",
    "    -reducer \"cat\" \\\n",
    "    -input ${FREQ_DIR}/part-* \\\n",
    "    -output ${OUT_DIR} > /dev/null        \n",
    "\n",
    "hdfs dfs -cat ${FREQ_DIR}/part-0000* | head  "
   ]
  },
  {
   "cell_type": "code",
   "execution_count": 30,
   "metadata": {},
   "outputs": [
    {
     "name": "stdout",
     "output_type": "stream",
     "text": [
      "copyToLocal: `part-00000': File exists\r\n"
     ]
    }
   ],
   "source": [
    "!hdfs dfs -copyToLocal ./total/part-00000 ."
   ]
  },
  {
   "cell_type": "code",
   "execution_count": 16,
   "metadata": {},
   "outputs": [],
   "source": [
    "!hdfs dfs -copyToLocal freq/part-00000 freq_part-00000"
   ]
  },
  {
   "cell_type": "code",
   "execution_count": 17,
   "metadata": {},
   "outputs": [
    {
     "name": "stdout",
     "output_type": "stream",
     "text": [
      "total 120456\r\n",
      "-rw-r--r-- 1 jovyan users 76861985 Nov 14 05:16 articles-part\r\n",
      "-rw-rw-r-- 1 jovyan root      1634 Oct  9 00:28 Demo.ipynb\r\n",
      "-rw-r--r-- 1 jovyan users  3577563 Nov 14 05:41 freq_part-00000\r\n",
      "-rwxr-xr-x 1 jovyan users      687 Nov 14 05:21 mapper_freq.py\r\n",
      "-rw-r--r-- 1 jovyan users      369 Nov 14 05:21 mapper_total.py\r\n",
      "-rw-r--r-- 1 jovyan users 42835716 Nov 14 05:18 my_output.txt\r\n",
      "-rw-r--r-- 1 jovyan users    20928 Nov 14 05:41 name_rating (1).ipynb\r\n",
      "-rw-r--r-- 1 jovyan users       15 Nov 14 05:36 part-00000\r\n",
      "-rw-rw-r-- 1 jovyan root       239 Oct 15 16:10 README.md\r\n",
      "-rw-r--r-- 1 jovyan users      732 Nov 14 05:21 reducer_freq.py\r\n",
      "-rw-r--r-- 1 jovyan users      118 Nov 14 05:21 reducer_total.py\r\n",
      "-rw-r--r-- 1 root   users      757 Nov 14 05:03 supervisord.log\r\n",
      "-rw-r--r-- 1 root   users        2 Nov 14 05:03 supervisord.pid\r\n"
     ]
    }
   ],
   "source": [
    "! ls -l"
   ]
  }
 ],
 "metadata": {
  "anaconda-cloud": {},
  "kernelspec": {
   "display_name": "Python 2",
   "language": "python",
   "name": "python2"
  },
  "language_info": {
   "codemirror_mode": {
    "name": "ipython",
    "version": 2
   },
   "file_extension": ".py",
   "mimetype": "text/x-python",
   "name": "python",
   "nbconvert_exporter": "python",
   "pygments_lexer": "ipython2",
   "version": "2.7.12"
  }
 },
 "nbformat": 4,
 "nbformat_minor": 2
}
