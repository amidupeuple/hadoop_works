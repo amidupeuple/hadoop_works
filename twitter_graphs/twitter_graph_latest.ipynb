{
 "cells": [
  {
   "cell_type": "code",
   "execution_count": 1,
   "metadata": {},
   "outputs": [],
   "source": [
    "def parse_edge(s):\n",
    "    user, follower = s.split(\"\\t\")\n",
    "    return (int(user), int(follower))\n",
    "\n",
    "def step(item):\n",
    "    prev_v, prev_d, next_v = item[0], item[1][0], item[1][1]\n",
    "    prevDist, prevPath = prev_d.split('_', 1)\n",
    "    nextDist = int(prevDist) + 1\n",
    "    nextPath = prevPath + ',' + str(next_v)\n",
    "    return (next_v, str(nextDist) + '_' + nextPath)\n",
    "\n",
    "def complete(item):\n",
    "    v, old_d, new_d = item[0], item[1][0], item[1][1]\n",
    "    oldDist = None\n",
    "    if old_d != None:\n",
    "        oldDist = int(old_d.split('_', 1)[0])\n",
    "    newDist = None\n",
    "    if new_d != None:\n",
    "        newDist = int(new_d.split('_', 1)[0])\n",
    "    return (v, old_d if oldDist is not None else new_d)\n"
   ]
  },
  {
   "cell_type": "code",
   "execution_count": 2,
   "metadata": {},
   "outputs": [],
   "source": [
    "from pyspark import SparkConf, SparkContext\n",
    "sc = SparkContext(conf=SparkConf().setAppName(\"MyApp\").setMaster(\"local\"))"
   ]
  },
  {
   "cell_type": "code",
   "execution_count": 3,
   "metadata": {},
   "outputs": [
    {
     "name": "stdout",
     "output_type": "stream",
     "text": [
      "d=1\n",
      "d=2\n",
      "d=3\n",
      "d=4\n",
      "d=5\n",
      "d=6\n",
      "d=7\n",
      "12,422,53,52,107,20,23,274,34\n"
     ]
    }
   ],
   "source": [
    "n = 10  # number of partitions\n",
    "edges = sc.textFile(\"/data/twitter/twitter_sample.txt\").map(parse_edge)\n",
    "forward_edges = edges.map(lambda e: (e[1], e[0])).partitionBy(n).cache()\n",
    "\n",
    "x = 12\n",
    "d = 0\n",
    "tmp = str(d) + '_' + str(x)\n",
    "distances = sc.parallelize([(x, tmp)]).partitionBy(n)\n",
    "exit = False\n",
    "\n",
    "while True:\n",
    "    candidates = distances.join(forward_edges, n).map(step)\n",
    "    new_distances = distances.fullOuterJoin(candidates, n).map(complete).distinct().cache()\n",
    "    \n",
    "    for i, x in new_distances.collect():\n",
    "        if i == 34:\n",
    "            print x.split('_')[1]\n",
    "            exit = True\n",
    "            break\n",
    "            \n",
    "    if not exit:\n",
    "        d += 1\n",
    "        distances = new_distances\n",
    "        print 'd=%d' % d\n",
    "    else:\n",
    "        break"
   ]
  }
 ],
 "metadata": {
  "kernelspec": {
   "display_name": "Python 2",
   "language": "python",
   "name": "python2"
  },
  "language_info": {
   "codemirror_mode": {
    "name": "ipython",
    "version": 2
   },
   "file_extension": ".py",
   "mimetype": "text/x-python",
   "name": "python",
   "nbconvert_exporter": "python",
   "pygments_lexer": "ipython2",
   "version": "2.7.12"
  }
 },
 "nbformat": 4,
 "nbformat_minor": 2
}
