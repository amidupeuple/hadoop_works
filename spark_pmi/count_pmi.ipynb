{
 "cells": [
  {
   "cell_type": "code",
   "execution_count": 1,
   "metadata": {},
   "outputs": [
    {
     "data": {
      "text/plain": [
       "PythonRDD[2] at RDD at PythonRDD.scala:48"
      ]
     },
     "execution_count": 1,
     "metadata": {},
     "output_type": "execute_result"
    }
   ],
   "source": [
    "from pyspark import SparkConf, SparkContext\n",
    "sc = SparkContext(conf=SparkConf().setAppName(\"MyApp\").setMaster(\"local\"))\n",
    "\n",
    "import re\n",
    "\n",
    "def parse_article(line):\n",
    "    try:\n",
    "        article_id, text = unicode(line.rstrip()).split('\\t', 1)\n",
    "        text = re.sub(\"^\\W+|\\W+$\", \"\", text, flags=re.UNICODE)\n",
    "        words = re.split(\"\\W*\\s+\\W*\", text, flags=re.UNICODE)\n",
    "        return words\n",
    "    except ValueError as e:\n",
    "        return []\n",
    "\n",
    "wiki = sc.textFile(\"/data/wiki/en_articles_part/articles-part\", 16).map(parse_article)\n",
    "wiki.cache()"
   ]
  },
  {
   "cell_type": "code",
   "execution_count": 2,
   "metadata": {},
   "outputs": [],
   "source": [
    "#prepare list of stop words\n",
    "with open('/datasets/stop_words_en.txt', 'r') as stop_file:\n",
    "    stop_words_str=stop_file.read()\n",
    "stop_words_list = re.split('\\n', stop_words_str, flags=re.UNICODE)"
   ]
  },
  {
   "cell_type": "code",
   "execution_count": 3,
   "metadata": {},
   "outputs": [],
   "source": [
    "def filter_list(stop_list, listOfWords):\n",
    "    filteredList = []\n",
    "    for word in listOfWords:\n",
    "        if is_word_in_stop_list(stop_list, word):\n",
    "            continue\n",
    "        else:\n",
    "            filteredList.append(word.lower())\n",
    "    return filteredList        \n",
    "\n",
    "def is_word_in_stop_list(stop_list, word):\n",
    "    if word.lower() in stop_list:\n",
    "        return True\n",
    "    else:\n",
    "        return False\n",
    "filtered = wiki.map(lambda x: filter_list(stop_words_list, x))    "
   ]
  },
  {
   "cell_type": "code",
   "execution_count": 6,
   "metadata": {},
   "outputs": [],
   "source": [
    "def getBiGramsFromList(listOfWords):\n",
    "    bigrams = []\n",
    "    i = 0\n",
    "    while i < len(listOfWords):\n",
    "        if i == (len(listOfWords) - 1):\n",
    "            return bigrams\n",
    "        j = i + 1\n",
    "        bigrams.append(listOfWords[i] + '_' + listOfWords[j])\n",
    "        i += 1\n",
    "\n",
    "counted_bigrams = filtered.flatMap(getBiGramsFromList).map(lambda x: (x, 1)).reduceByKey(lambda x, y: x + y)"
   ]
  },
  {
   "cell_type": "code",
   "execution_count": 7,
   "metadata": {},
   "outputs": [
    {
     "data": {
      "text/plain": [
       "4813006"
      ]
     },
     "execution_count": 7,
     "metadata": {},
     "output_type": "execute_result"
    }
   ],
   "source": [
    "counted_bigrams.count()"
   ]
  },
  {
   "cell_type": "code",
   "execution_count": 8,
   "metadata": {},
   "outputs": [
    {
     "data": {
      "text/plain": [
       "PythonRDD[8] at RDD at PythonRDD.scala:48"
      ]
     },
     "execution_count": 8,
     "metadata": {},
     "output_type": "execute_result"
    }
   ],
   "source": [
    "counted_bigrams.cache()"
   ]
  },
  {
   "cell_type": "code",
   "execution_count": 10,
   "metadata": {},
   "outputs": [],
   "source": [
    "numb_filtered = counted_bigrams.filter(lambda x: True if x[1] > 500 else False).cache()"
   ]
  },
  {
   "cell_type": "code",
   "execution_count": 11,
   "metadata": {},
   "outputs": [
    {
     "data": {
      "text/plain": [
       "39"
      ]
     },
     "execution_count": 11,
     "metadata": {},
     "output_type": "execute_result"
    }
   ],
   "source": [
    "numb_filtered.count()"
   ]
  },
  {
   "cell_type": "code",
   "execution_count": 12,
   "metadata": {},
   "outputs": [
    {
     "data": {
      "text/plain": [
       "[(u'york_city', 625),\n",
       " (u'notes_references', 638),\n",
       " (u'north_american', 510),\n",
       " (u'new_york', 4193),\n",
       " (u'roman_catholic', 630)]"
      ]
     },
     "execution_count": 12,
     "metadata": {},
     "output_type": "execute_result"
    }
   ],
   "source": [
    "numb_filtered.take(5)"
   ]
  },
  {
   "cell_type": "code",
   "execution_count": 13,
   "metadata": {},
   "outputs": [],
   "source": [
    "def mapWordForCounting(listOfWords):\n",
    "    result = []\n",
    "    for word in listOfWords:\n",
    "        result.append((word, 1))\n",
    "    return result    \n",
    "\n",
    "word_count = filtered.flatMap(mapWordForCounting).reduceByKey(lambda x, y: x+y).cache()"
   ]
  },
  {
   "cell_type": "code",
   "execution_count": 14,
   "metadata": {},
   "outputs": [
    {
     "data": {
      "text/plain": [
       "426241"
      ]
     },
     "execution_count": 14,
     "metadata": {},
     "output_type": "execute_result"
    }
   ],
   "source": [
    "word_count.count()"
   ]
  },
  {
   "cell_type": "code",
   "execution_count": 16,
   "metadata": {},
   "outputs": [
    {
     "data": {
      "text/plain": [
       "[(u'biennials', 10),\n",
       " (u'underlyingly', 1),\n",
       " (u'ancyra', 43),\n",
       " (u'tripolitan', 2),\n",
       " (u'tilton', 4),\n",
       " (u'nordland', 1),\n",
       " (u'squealer', 8),\n",
       " (u'regularize', 2),\n",
       " (u'skylights.passive', 1),\n",
       " (u'thesis\"(kleene', 1)]"
      ]
     },
     "execution_count": 16,
     "metadata": {},
     "output_type": "execute_result"
    }
   ],
   "source": [
    "word_count.take(10)"
   ]
  }
 ],
 "metadata": {
  "kernelspec": {
   "display_name": "Python 2",
   "language": "python",
   "name": "python2"
  },
  "language_info": {
   "codemirror_mode": {
    "name": "ipython",
    "version": 2
   },
   "file_extension": ".py",
   "mimetype": "text/x-python",
   "name": "python",
   "nbconvert_exporter": "python",
   "pygments_lexer": "ipython2",
   "version": "2.7.12"
  }
 },
 "nbformat": 4,
 "nbformat_minor": 2
}
